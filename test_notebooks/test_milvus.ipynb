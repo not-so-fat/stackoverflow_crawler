{
 "cells": [
  {
   "cell_type": "code",
   "execution_count": null,
   "id": "505b9933-07b5-406f-88d9-74ca804107a5",
   "metadata": {},
   "outputs": [],
   "source": [
    "import logging\n",
    "import stackoverflow_crawler\n",
    "\n",
    "logging.basicConfig(level=logging.INFO)\n",
    "logging.getLogger('notebook').setLevel(logging.INFO)"
   ]
  },
  {
   "cell_type": "code",
   "execution_count": null,
   "id": "2438cd7f-79a9-4980-b4bb-2d9909adc73c",
   "metadata": {},
   "outputs": [],
   "source": [
    "db_url = \"sqlite:///example.db\""
   ]
  },
  {
   "cell_type": "code",
   "execution_count": null,
   "id": "40fedbbf-c69d-4aa4-b645-2a77609a9ff6",
   "metadata": {},
   "outputs": [],
   "source": [
    "crawler = stackoverflow_crawler.StackoverflowCrawler(db_url, \"milvus\")"
   ]
  },
  {
   "cell_type": "code",
   "execution_count": null,
   "id": "ba2f4008-7a98-440d-be74-981fd9cdbbd6",
   "metadata": {
    "scrolled": true
   },
   "outputs": [],
   "source": [
    "crawler.crawl()"
   ]
  },
  {
   "cell_type": "code",
   "execution_count": null,
   "id": "10853c3a-badc-4437-bf09-1848a3463ff9",
   "metadata": {},
   "outputs": [],
   "source": [
    "!pip install pandas"
   ]
  },
  {
   "cell_type": "code",
   "execution_count": null,
   "id": "2334ac40-26d4-45eb-994f-5e39f38e203c",
   "metadata": {},
   "outputs": [],
   "source": [
    "import pandas as pd\n",
    "from sqlalchemy import create_engine\n",
    "\n",
    "engine = create_engine(db_url)"
   ]
  },
  {
   "cell_type": "code",
   "execution_count": null,
   "id": "44db749a-c9cb-4b9e-8d3a-e66b4b7225ff",
   "metadata": {},
   "outputs": [],
   "source": [
    "query = \"SELECT * FROM questions LIMIT 5\"\n",
    "pd.read_sql(query, engine)"
   ]
  },
  {
   "cell_type": "code",
   "execution_count": null,
   "id": "0dc35de8-1601-47ae-b691-a5fbb2dc24b1",
   "metadata": {},
   "outputs": [],
   "source": [
    "query = \"SELECT * FROM answers LIMIT 5\"\n",
    "pd.read_sql(query, engine)"
   ]
  },
  {
   "cell_type": "code",
   "execution_count": null,
   "id": "148b39a6-c156-4b22-b209-0ade03346db9",
   "metadata": {},
   "outputs": [],
   "source": []
  }
 ],
 "metadata": {
  "kernelspec": {
   "display_name": "Python 3 (ipykernel)",
   "language": "python",
   "name": "python3"
  },
  "language_info": {
   "codemirror_mode": {
    "name": "ipython",
    "version": 3
   },
   "file_extension": ".py",
   "mimetype": "text/x-python",
   "name": "python",
   "nbconvert_exporter": "python",
   "pygments_lexer": "ipython3",
   "version": "3.10.12"
  }
 },
 "nbformat": 4,
 "nbformat_minor": 5
}
